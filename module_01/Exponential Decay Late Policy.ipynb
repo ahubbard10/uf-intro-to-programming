{
 "cells": [
  {
   "cell_type": "code",
   "execution_count": null,
   "metadata": {},
   "outputs": [],
   "source": [
    "from math import e\n",
    "import seaborn as sns"
   ]
  },
  {
   "cell_type": "code",
   "execution_count": null,
   "metadata": {},
   "outputs": [],
   "source": [
    "%pylab inline"
   ]
  },
  {
   "cell_type": "code",
   "execution_count": null,
   "metadata": {
    "collapsed": true
   },
   "outputs": [],
   "source": [
    "hours = range(1,100)"
   ]
  },
  {
   "cell_type": "code",
   "execution_count": null,
   "metadata": {
    "collapsed": true
   },
   "outputs": [],
   "source": [
    "decayed_100 = [100 * e**(-h/132) for h in hours]\n",
    "decayed_90 = [90 * e**(-h/132) for h in hours]\n",
    "decayed_80 = [80 * e**(-h/132) for h in hours]\n",
    "decayed_70 = [70 * e**(-h/132) for h in hours]"
   ]
  },
  {
   "cell_type": "code",
   "execution_count": null,
   "metadata": {},
   "outputs": [],
   "source": [
    "plt_100, = plt.plot(hours, decayed_100, label='Initial score: 100')\n",
    "plt_90, = plt.plot(hours, decayed_90, label='Initial score: 90')\n",
    "plt_80, = plt.plot(hours, decayed_80, label='Initial score: 80')\n",
    "plt_70, = plt.plot(hours, decayed_70, label='Initial score: 70')\n",
    "\n",
    "plt.legend(handles=[plt_100, plt_90, plt_80, plt_70])\n",
    "\n",
    "plt.title('Late Grade Decay Chart')\n",
    "plt.xlabel('Hours late')\n",
    "plt.ylabel('Initial Score')"
   ]
  },
  {
   "cell_type": "code",
   "execution_count": null,
   "metadata": {
    "collapsed": true
   },
   "outputs": [],
   "source": []
  }
 ],
 "metadata": {
  "kernelspec": {
   "display_name": "Python 3",
   "language": "python",
   "name": "python3"
  },
  "language_info": {
   "codemirror_mode": {
    "name": "ipython",
    "version": 3
   },
   "file_extension": ".py",
   "mimetype": "text/x-python",
   "name": "python",
   "nbconvert_exporter": "python",
   "pygments_lexer": "ipython3",
   "version": "3.6.1"
  }
 },
 "nbformat": 4,
 "nbformat_minor": 1
}
